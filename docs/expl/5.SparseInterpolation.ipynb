{
 "cells": [
  {
   "cell_type": "markdown",
   "metadata": {
    "nbpresent": {
     "id": "7e5c6712-cc1a-4797-9413-6591d9cacf4a"
    }
   },
   "source": [
    "# Sparse interpolation"
   ]
  },
  {
   "cell_type": "code",
   "execution_count": 1,
   "metadata": {
    "nbpresent": {
     "id": "ce06f4c7-ce48-4da0-9d69-7087106d054f"
    }
   },
   "outputs": [],
   "source": [
    "using MultivariateSeries"
   ]
  },
  {
   "cell_type": "markdown",
   "metadata": {},
   "source": [
    "A sparse polynomial in 3 variables"
   ]
  },
  {
   "cell_type": "code",
   "execution_count": 2,
   "metadata": {
    "nbpresent": {
     "id": "8c3a870c-7722-416e-9162-bec1f05a0a1f"
    }
   },
   "outputs": [
    {
     "data": {
      "text/latex": [
       "6.7x1^{4}x2^{5}x3 + 10.2x1^{2}x2x3^{3} - 3.4x1x2^{2}x3"
      ],
      "text/plain": [
       "6.7x1⁴x2⁵x3 + 10.2x1²x2x3³ - 3.4x1x2²x3"
      ]
     },
     "execution_count": 2,
     "metadata": {},
     "output_type": "execute_result"
    }
   ],
   "source": [
    "X = @ring x1 x2 x3\n",
    "f = 6.7x1^4*x2^5*x3 + 10.2x1^2*x2*x3^3 - 3.4x1*x2^2*x3"
   ]
  },
  {
   "cell_type": "markdown",
   "metadata": {},
   "source": [
    "The series of moments $f(\\zeta^{\\alpha})$ for $|\\alpha|\\leq 3$."
   ]
  },
  {
   "cell_type": "code",
   "execution_count": 3,
   "metadata": {
    "nbpresent": {
     "id": "e1b828a2-c7e6-444f-bef3-e471bafb192f"
    }
   },
   "outputs": [
    {
     "data": {
      "text/plain": [
       "7.2252810000000025dx1*dx3 + 10.382283000000001dx2 + 10.405800000000001dx3 + 7.5529172763000005dx1*dx2 + 6.357388987800002dx3^3 + 6.117862993803001dx2^2dx3 + 4.834376094422702dx1^3 + 7.008371185034148dx2^3 + 7.774274700000001dx2*dx3 + 5.495308104980432dx1^2dx2 + 5.5261037486700015dx1*dx2*dx3 + 6.8223503070000024dx1^2 + 8.0936982dx3^2 + 9.59787dx1 + 8.36740554867dx2^2 + 4.995745656300002dx1^2dx3 + 5.472820242000001dx1*dx3^2 + 6.217299094482389dx1*dx2^2 + 5.852477610000002dx2*dx3^2 + 13.499999999999998"
      ]
     },
     "execution_count": 3,
     "metadata": {},
     "output_type": "execute_result"
    }
   ],
   "source": [
    "zeta = fill(0.9, length(X))\n",
    "sigma = series(f, zeta, X,3)"
   ]
  },
  {
   "cell_type": "markdown",
   "metadata": {},
   "source": [
    "Computing its decomposition using svd"
   ]
  },
  {
   "cell_type": "code",
   "execution_count": 4,
   "metadata": {
    "nbpresent": {
     "id": "20ac1305-b35b-4eb7-9784-c2a1aadd277a"
    }
   },
   "outputs": [],
   "source": [
    "w, Xi = decompose(sigma);"
   ]
  },
  {
   "cell_type": "markdown",
   "metadata": {},
   "source": [
    "yields the coefficients of the terms of f as the weights $\\omega$, and the exponents of the monomials of f as the $\\log_{\\zeta}$ of the points $\\Xi$:"
   ]
  },
  {
   "cell_type": "code",
   "execution_count": 5,
   "metadata": {
    "nbpresent": {
     "id": "15e6313c-37a5-4cc3-9854-daabb827029a"
    }
   },
   "outputs": [
    {
     "data": {
      "text/plain": [
       "3-element Array{Float64,1}:\n",
       " -3.399999999998614\n",
       " 10.199999999997454\n",
       "  6.700000000001163"
      ]
     },
     "execution_count": 5,
     "metadata": {},
     "output_type": "execute_result"
    }
   ],
   "source": [
    "w"
   ]
  },
  {
   "cell_type": "code",
   "execution_count": 6,
   "metadata": {
    "nbpresent": {
     "id": "7348f10f-4db3-4f43-a2d0-228e05052ff6"
    }
   },
   "outputs": [
    {
     "data": {
      "text/plain": [
       "3×3 Array{Float64,2}:\n",
       " 1.0  2.0  4.0\n",
       " 2.0  1.0  5.0\n",
       " 1.0  3.0  1.0"
      ]
     },
     "execution_count": 6,
     "metadata": {},
     "output_type": "execute_result"
    }
   ],
   "source": [
    "Ex = log(Xi, zeta)"
   ]
  },
  {
   "cell_type": "code",
   "execution_count": null,
   "metadata": {},
   "outputs": [],
   "source": []
  }
 ],
 "metadata": {
  "anaconda-cloud": {},
  "kernelspec": {
   "display_name": "Julia 1.0.0",
   "language": "julia",
   "name": "julia-1.0"
  },
  "language_info": {
   "file_extension": ".jl",
   "mimetype": "application/julia",
   "name": "julia",
   "version": "1.0.0"
  }
 },
 "nbformat": 4,
 "nbformat_minor": 1
}
