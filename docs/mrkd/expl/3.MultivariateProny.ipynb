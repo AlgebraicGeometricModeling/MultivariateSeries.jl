{
 "cells": [
  {
   "cell_type": "markdown",
   "metadata": {},
   "source": [
    "# Multivariate exponential decompositon"
   ]
  },
  {
   "cell_type": "code",
   "execution_count": 1,
   "metadata": {},
   "outputs": [],
   "source": [
    "using MultivariateSeries"
   ]
  },
  {
   "cell_type": "markdown",
   "metadata": {},
   "source": [
    "We consider the following function, which is a sum of 6 complex exponentials "
   ]
  },
  {
   "cell_type": "code",
   "execution_count": 2,
   "metadata": {
    "nbpresent": {
     "id": "8c3a870c-7722-416e-9162-bec1f05a0a1f"
    }
   },
   "outputs": [],
   "source": [
    "f = (u,v) -> 0.5*cos(0.7*pi*(u+v))+0.6*sin(4*pi*u)-0.2*cos(pi*v);"
   ]
  },
  {
   "cell_type": "markdown",
   "metadata": {},
   "source": [
    "![waves](waves.png)"
   ]
  },
  {
   "cell_type": "markdown",
   "metadata": {},
   "source": [
    "In order to recover the frequencies or exponents of these exponential terms and their coefficients, we sample the function on a grid $({\\alpha_1 \\over T}, {\\alpha_2 \\over T}), \\alpha=(\\alpha_1,\\alpha_2)\\in A\\subset \\mathbb{N}^2$. This defines a sequence of moments $\\sigma_{\\alpha}=f({\\alpha_1 \\over T}, {\\alpha_2 \\over T})$. We compute its generating series truncated in degree $\\leq 5$."
   ]
  },
  {
   "cell_type": "code",
   "execution_count": 3,
   "metadata": {
    "nbpresent": {
     "id": "e1b828a2-c7e6-444f-bef3-e471bafb192f"
    }
   },
   "outputs": [
    {
     "data": {
      "text/plain": [
       "0.3 + 0.8585922907464658dx1 + 0.29774707771034303dx2 + 0.6050846776084937dx1^2 + 0.8328361327510712dx1*dx2 + 0.2906101273580203dx2^2 - 0.15759364518763863dx1^3 + 0.5575373543042985dx1^2dx2 + 0.8039080170899477dx1*dx2^2 + 0.2775204557293506dx2^3 - 0.4519219149027473dx1^4 - 0.22417045976016967dx1^3dx2 + 0.5095797473748392dx1^2dx2^2 + 0.7717888541929423dx1*dx2^3 + 0.2569085959993554dx2^4 + 0.02699524986977328dx1^5 - 0.5338499631663495dx1^4dx2 - 0.2874793003806999dx1^3dx2^2 + 0.46210935078676274dx1^2dx2^3 + 0.7358257607718759dx1*dx2^4 + 0.22699524986977343dx2^5"
      ]
     },
     "execution_count": 3,
     "metadata": {},
     "output_type": "execute_result"
    }
   ],
   "source": [
    "X = @ring x1 x2\n",
    "L = monomials(X,0:5)\n",
    "T = 10\n",
    "mnt = (V->f(V[1]/T,V[2]/T))\n",
    "sigma = series(mnt, L)"
   ]
  },
  {
   "cell_type": "markdown",
   "metadata": {},
   "source": [
    "Computing its decomposition using svd"
   ]
  },
  {
   "cell_type": "code",
   "execution_count": 4,
   "metadata": {
    "nbpresent": {
     "id": "20ac1305-b35b-4eb7-9784-c2a1aadd277a"
    }
   },
   "outputs": [],
   "source": [
    "w, Xi = decompose(sigma);"
   ]
  },
  {
   "cell_type": "markdown",
   "metadata": {},
   "source": [
    "yields the weights $\\omega$ of the exponential terms in f and the exponentials $\\Xi$:"
   ]
  },
  {
   "cell_type": "code",
   "execution_count": 5,
   "metadata": {
    "nbpresent": {
     "id": "15e6313c-37a5-4cc3-9854-daabb827029a"
    }
   },
   "outputs": [
    {
     "data": {
      "text/plain": [
       "6×2 Matrix{ComplexF64}:\n",
       "  8.54995e-14+4.0im          -2.74234e-13+3.49925e-13im\n",
       "  8.66701e-14-4.0im          -2.73528e-13-3.49932e-13im\n",
       " -8.03348e-12+0.7im          -6.03198e-12+0.7im\n",
       " -8.03216e-12-0.7im          -6.02904e-12-0.7im\n",
       "  1.54533e-11+1.54104e-11im   8.86233e-12-1.0im\n",
       "   1.5454e-11-1.541e-11im     8.86133e-12+1.0im"
      ]
     },
     "execution_count": 5,
     "metadata": {},
     "output_type": "execute_result"
    }
   ],
   "source": [
    "log.(Xi')*T/pi"
   ]
  },
  {
   "cell_type": "markdown",
   "metadata": {},
   "source": [
    "By taking the log and scaling by ${T\\over \\pi}$, we recover the frequency vectors within precision $1O^{-11}$. "
   ]
  },
  {
   "cell_type": "code",
   "execution_count": 6,
   "metadata": {
    "nbpresent": {
     "id": "7348f10f-4db3-4f43-a2d0-228e05052ff6"
    }
   },
   "outputs": [
    {
     "data": {
      "text/plain": [
       "6-element Vector{ComplexF64}:\n",
       " 2.7501205230436507e-15 + 0.29999999999998295im\n",
       " 2.1890339292793378e-15 - 0.29999999999998267im\n",
       "    0.24999999999973513 + 1.1959663390382177e-11im\n",
       "    0.24999999999973493 - 1.195958012365533e-11im\n",
       "   -0.09999999999895023 - 6.168820123541792e-13im\n",
       "   -0.09999999999895037 + 6.168330698883567e-13im"
      ]
     },
     "execution_count": 6,
     "metadata": {},
     "output_type": "execute_result"
    }
   ],
   "source": [
    "w"
   ]
  },
  {
   "cell_type": "code",
   "execution_count": null,
   "metadata": {},
   "outputs": [],
   "source": []
  }
 ],
 "metadata": {
  "@webio": {
   "lastCommId": null,
   "lastKernelId": null
  },
  "anaconda-cloud": {},
  "kernelspec": {
   "display_name": "Julia 1.7.2",
   "language": "julia",
   "name": "julia-1.7"
  },
  "language_info": {
   "file_extension": ".jl",
   "mimetype": "application/julia",
   "name": "julia",
   "version": "1.7.2"
  }
 },
 "nbformat": 4,
 "nbformat_minor": 1
}
