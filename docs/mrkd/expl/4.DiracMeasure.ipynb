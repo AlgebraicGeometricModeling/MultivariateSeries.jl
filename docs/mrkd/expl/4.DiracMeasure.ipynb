{
 "cells": [
  {
   "cell_type": "markdown",
   "metadata": {},
   "source": [
    "# Weighted sum of Dirac Measures "
   ]
  },
  {
   "cell_type": "code",
   "execution_count": 1,
   "metadata": {},
   "outputs": [],
   "source": [
    "using MultivariateSeries"
   ]
  },
  {
   "cell_type": "markdown",
   "metadata": {},
   "source": [
    "Series with 3 variables"
   ]
  },
  {
   "cell_type": "code",
   "execution_count": 2,
   "metadata": {},
   "outputs": [],
   "source": [
    "x = @ring x1 x2 x3\n",
    "n = length(x)\n",
    "r = 4;"
   ]
  },
  {
   "cell_type": "markdown",
   "metadata": {},
   "source": [
    "Random weights in $[0,1]$"
   ]
  },
  {
   "cell_type": "code",
   "execution_count": 3,
   "metadata": {},
   "outputs": [
    {
     "data": {
      "text/plain": [
       "4-element Vector{Float64}:\n",
       " 0.46545963898811915\n",
       " 0.021978038390889187\n",
       " 0.04877312766629227\n",
       " 0.1370341036362387"
      ]
     },
     "execution_count": 3,
     "metadata": {},
     "output_type": "execute_result"
    }
   ],
   "source": [
    "w0 = rand(Float64,r)"
   ]
  },
  {
   "cell_type": "markdown",
   "metadata": {},
   "source": [
    "Random points in $[0,1]^n$"
   ]
  },
  {
   "cell_type": "code",
   "execution_count": 4,
   "metadata": {},
   "outputs": [
    {
     "data": {
      "text/plain": [
       "3×4 Matrix{Float64}:\n",
       " 0.37808   0.231761  0.794831  0.0190203\n",
       " 0.621472  0.149643  0.162051  0.623349\n",
       " 0.85187   0.715274  0.039446  0.961319"
      ]
     },
     "execution_count": 4,
     "metadata": {},
     "output_type": "execute_result"
    }
   ],
   "source": [
    "Xi0 = rand(Float64,n,r)"
   ]
  },
  {
   "cell_type": "markdown",
   "metadata": {},
   "source": [
    "Moment function of the sum of the Dirac measures of the points $\\Xi_0$ with weights $\\omega_0$ and its generating series up to degree 3."
   ]
  },
  {
   "cell_type": "code",
   "execution_count": 5,
   "metadata": {},
   "outputs": [
    {
     "data": {
      "text/plain": [
       "0.6732449086815393 + 0.22244747548801583dx1 + 0.3858826556686884dx2 + 0.5458888158350238dx3 + 0.09857770553712933dx1^2 + 0.11803628307639027dx1*dx2 + 0.15759110449457098dx1*dx3 + 0.23479256902151965dx2^2 + 0.3312005626490396dx2*dx3 + 0.4757340405356967dx3^2 + 0.049920949492184286dx1^3 + 0.04655035411064641dx1^2dx2 + 0.05878658405010533dx1^2dx3 + 0.07011345415830575dx1*dx2^2 + 0.09552151593531152dx1*dx2*dx3 + 0.13278137141780286dx1*dx3^2 + 0.14519624175782025dx2^3 + 0.2047327416078236dx2^2dx3 + 0.29055270964631225dx2*dx3^2 + 0.41752635290304874dx3^3"
      ]
     },
     "execution_count": 5,
     "metadata": {},
     "output_type": "execute_result"
    }
   ],
   "source": [
    "mt = moment(w0, Xi0)\n",
    "s = series(mt, monomials(x, 0:3))"
   ]
  },
  {
   "cell_type": "markdown",
   "metadata": {},
   "source": [
    "Decomposition of the series from its terms up to degree 3."
   ]
  },
  {
   "cell_type": "code",
   "execution_count": 6,
   "metadata": {},
   "outputs": [],
   "source": [
    "w, Xi = decompose(s);"
   ]
  },
  {
   "cell_type": "code",
   "execution_count": 7,
   "metadata": {},
   "outputs": [
    {
     "data": {
      "text/plain": [
       "4-element Vector{Float64}:\n",
       " 0.1370341036362443\n",
       " 0.4654596389880742\n",
       " 0.021978038390932233\n",
       " 0.04877312766629078"
      ]
     },
     "execution_count": 7,
     "metadata": {},
     "output_type": "execute_result"
    }
   ],
   "source": [
    "w"
   ]
  },
  {
   "cell_type": "code",
   "execution_count": 8,
   "metadata": {},
   "outputs": [
    {
     "data": {
      "text/plain": [
       "3×4 Matrix{Float64}:\n",
       " 0.0190203  0.37808   0.231761  0.794831\n",
       " 0.623349   0.621472  0.149643  0.162051\n",
       " 0.961319   0.85187   0.715274  0.039446"
      ]
     },
     "execution_count": 8,
     "metadata": {},
     "output_type": "execute_result"
    }
   ],
   "source": [
    "Xi"
   ]
  },
  {
   "cell_type": "code",
   "execution_count": null,
   "metadata": {},
   "outputs": [],
   "source": []
  }
 ],
 "metadata": {
  "@webio": {
   "lastCommId": null,
   "lastKernelId": null
  },
  "anaconda-cloud": {},
  "kernelspec": {
   "display_name": "Julia 1.7.2",
   "language": "julia",
   "name": "julia-1.7"
  },
  "language_info": {
   "file_extension": ".jl",
   "mimetype": "application/julia",
   "name": "julia",
   "version": "1.7.2"
  }
 },
 "nbformat": 4,
 "nbformat_minor": 1
}
