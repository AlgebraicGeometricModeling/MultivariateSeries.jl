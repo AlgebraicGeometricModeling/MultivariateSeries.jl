{
 "cells": [
  {
   "cell_type": "markdown",
   "metadata": {},
   "source": [
    "# Decoding algebraic codes (BMS)\n",
    "\n",
    "We consider the code $C$ formed by the words $m\\in \\mathbb{k}^l$ such that \n",
    "<center>\n",
    "$m.[f(P_1), \\ldots, f(P_l)]=0$\n",
    "</center>\n",
    "where $f\\in V\\subset \\mathbb{k}[x_1,...,x_n]$."
   ]
  },
  {
   "cell_type": "code",
   "execution_count": 1,
   "metadata": {},
   "outputs": [
    {
     "data": {
      "text/plain": [
       "(x1, x2)"
      ]
     },
     "execution_count": 1,
     "metadata": {},
     "output_type": "execute_result"
    }
   ],
   "source": [
    "using DynamicPolynomials, MultivariateSeries\n",
    "X = @polyvar x1 x2"
   ]
  },
  {
   "cell_type": "markdown",
   "metadata": {},
   "source": [
    "We consider the following points $P$ and the vector space $V$ spanned by the monomials $M$ of degree $\\le 2$ in two variables $x_1, x_2$."
   ]
  },
  {
   "cell_type": "code",
   "execution_count": 2,
   "metadata": {},
   "outputs": [
    {
     "data": {
      "text/plain": [
       "6-element MonomialVector{DynamicPolynomials.Commutative{DynamicPolynomials.CreationOrder}, Graded{LexOrder}}:\n",
       " 1\n",
       " x2\n",
       " x1\n",
       " x2²\n",
       " x1x2\n",
       " x1²"
      ]
     },
     "execution_count": 2,
     "metadata": {},
     "output_type": "execute_result"
    }
   ],
   "source": [
    "P = [\n",
    "1   1;\n",
    "1  -1;\n",
    "-1  1;\n",
    "-1 -1;\n",
    "0   1; \n",
    "2  -1;\n",
    "1   2;\n",
    "1  -2]'\n",
    "\n",
    "M = monomials(X,0:2)"
   ]
  },
  {
   "cell_type": "markdown",
   "metadata": {},
   "source": [
    "The words of the code are the kernel of the following matrix:"
   ]
  },
  {
   "cell_type": "code",
   "execution_count": 3,
   "metadata": {},
   "outputs": [
    {
     "data": {
      "text/plain": [
       "6×8 Matrix{Int64}:\n",
       " 1   1   1   1  1   1  1   1\n",
       " 1  -1   1  -1  1  -1  2  -2\n",
       " 1   1  -1  -1  0   2  1   1\n",
       " 1   1   1   1  1   1  4   4\n",
       " 1  -1  -1   1  0  -2  2  -2\n",
       " 1   1   1   1  0   4  1   1"
      ]
     },
     "execution_count": 3,
     "metadata": {},
     "output_type": "execute_result"
    }
   ],
   "source": [
    "function vdm(P,L)\n",
    "    [ (L[j]+0)(P[:,i])\n",
    "        for  j in 1:length(L),i in 1:size(P,2) ]\n",
    "end\n",
    "W = vdm(P,M)"
   ]
  },
  {
   "cell_type": "markdown",
   "metadata": {},
   "source": [
    "We receive the following word:"
   ]
  },
  {
   "cell_type": "code",
   "execution_count": 4,
   "metadata": {},
   "outputs": [
    {
     "data": {
      "text/plain": [
       "8-element Vector{Int64}:\n",
       "  3\n",
       "  3\n",
       "  3\n",
       "  0\n",
       " -6\n",
       " -2\n",
       "  0\n",
       " -1"
      ]
     },
     "execution_count": 4,
     "metadata": {},
     "output_type": "execute_result"
    }
   ],
   "source": [
    "r = [3, 3, 3, 0, -6, -2, 0, -1]"
   ]
  },
  {
   "cell_type": "markdown",
   "metadata": {},
   "source": [
    "It is not a word of the code $C$, since the following vector of syndroms is not zero:"
   ]
  },
  {
   "cell_type": "code",
   "execution_count": 5,
   "metadata": {},
   "outputs": [
    {
     "data": {
      "text/plain": [
       "6-element Vector{Int64}:\n",
       "  0\n",
       "  1\n",
       " -2\n",
       " -3\n",
       "  3\n",
       "  0"
      ]
     },
     "execution_count": 5,
     "metadata": {},
     "output_type": "execute_result"
    }
   ],
   "source": [
    "s = W*r"
   ]
  },
  {
   "cell_type": "markdown",
   "metadata": {},
   "source": [
    "We want to correct it. For that, we build the corresponding series of syndroms:"
   ]
  },
  {
   "cell_type": "code",
   "execution_count": 6,
   "metadata": {},
   "outputs": [
    {
     "data": {
      "text/plain": [
       "dx2 - 2dx1 - 3dx2^2 + 3dx1*dx2"
      ]
     },
     "execution_count": 6,
     "metadata": {},
     "output_type": "execute_result"
    }
   ],
   "source": [
    "sigma = dual(M'*s)"
   ]
  },
  {
   "cell_type": "markdown",
   "metadata": {},
   "source": [
    "The Hankel matrix of $\\sigma$ in degree $\\le 1$ is:"
   ]
  },
  {
   "cell_type": "code",
   "execution_count": 7,
   "metadata": {},
   "outputs": [
    {
     "data": {
      "text/plain": [
       "3×3 Matrix{Int64}:\n",
       "  0   1  -2\n",
       "  1  -3   3\n",
       " -2   3   0"
      ]
     },
     "execution_count": 7,
     "metadata": {},
     "output_type": "execute_result"
    }
   ],
   "source": [
    "L1 = monomials(X,0:1)\n",
    "H = hankel(sigma, L1, L1)"
   ]
  },
  {
   "cell_type": "markdown",
   "metadata": {},
   "source": [
    "An element in its kernel gives an error locator polynomial of degree $1$:"
   ]
  },
  {
   "cell_type": "code",
   "execution_count": 8,
   "metadata": {},
   "outputs": [
    {
     "data": {
      "text/latex": [
       "$$ 2.9999999999999987 + 1.9999999999999984x2 + x1 $$"
      ],
      "text/plain": [
       "2.9999999999999987 + 1.9999999999999984x2 + x1"
      ]
     },
     "execution_count": 8,
     "metadata": {},
     "output_type": "execute_result"
    }
   ],
   "source": [
    "using LinearAlgebra\n",
    "le = nullspace(H); le/=le[3]\n",
    "ple = dot(L1,le)"
   ]
  },
  {
   "cell_type": "markdown",
   "metadata": {},
   "source": [
    "We check for which point in P, this polynomial vanishes. This will give the position where an error occurs:"
   ]
  },
  {
   "cell_type": "code",
   "execution_count": 9,
   "metadata": {},
   "outputs": [
    {
     "data": {
      "text/plain": [
       "8-element Vector{Polynomial{DynamicPolynomials.Commutative{DynamicPolynomials.CreationOrder}, Graded{LexOrder}, Float64}}:\n",
       " 5.999999999999997\n",
       " 2.0\n",
       " 3.9999999999999973\n",
       " 2.220446049250313e-16\n",
       " 4.999999999999997\n",
       " 3.0\n",
       " 7.999999999999996\n",
       " 1.7763568394002505e-15"
      ]
     },
     "execution_count": 9,
     "metadata": {},
     "output_type": "execute_result"
    }
   ],
   "source": [
    "er = [subs(ple,x1=>P[1,k], x2=>P[2,k]) for  k in 1:size(P,2)]"
   ]
  },
  {
   "cell_type": "code",
   "execution_count": 10,
   "metadata": {},
   "outputs": [
    {
     "data": {
      "text/plain": [
       "2-element Vector{Any}:\n",
       " 4\n",
       " 8"
      ]
     },
     "execution_count": 10,
     "metadata": {},
     "output_type": "execute_result"
    }
   ],
   "source": [
    "ie = []\n",
    "for i in 1:length(er)\n",
    "    if isapprox(er[i],0.0;atol=1e-10) push!(ie, i) end\n",
    "end\n",
    "ie"
   ]
  },
  {
   "cell_type": "markdown",
   "metadata": {},
   "source": [
    "These are the following points of $P$:"
   ]
  },
  {
   "cell_type": "code",
   "execution_count": 11,
   "metadata": {},
   "outputs": [
    {
     "data": {
      "text/plain": [
       "2×2 Matrix{Int64}:\n",
       " -1   1\n",
       " -1  -2"
      ]
     },
     "execution_count": 11,
     "metadata": {},
     "output_type": "execute_result"
    }
   ],
   "source": [
    "E = hcat([P[:,ie[i]] for i in 1:length(ie)]...)"
   ]
  },
  {
   "cell_type": "markdown",
   "metadata": {},
   "source": [
    "To get the error, that is the weights, we solve the system: $E*\\omega =[\\sigma_{x_1}, \\sigma_{x_2}]$:"
   ]
  },
  {
   "cell_type": "code",
   "execution_count": 12,
   "metadata": {},
   "outputs": [
    {
     "data": {
      "text/plain": [
       "2-element Vector{Float64}:\n",
       " -0.0\n",
       "  1.0"
      ]
     },
     "execution_count": 12,
     "metadata": {},
     "output_type": "execute_result"
    }
   ],
   "source": [
    "cr = E\\(W*r)[2:3]"
   ]
  },
  {
   "cell_type": "markdown",
   "metadata": {},
   "source": [
    "We can now correct the received message by removing the weights $cr$ at the positions of the errors $ie$:"
   ]
  },
  {
   "cell_type": "code",
   "execution_count": 16,
   "metadata": {},
   "outputs": [
    {
     "data": {
      "text/plain": [
       "8-element Vector{Int64}:\n",
       "  3\n",
       "  3\n",
       "  3\n",
       "  0\n",
       " -6\n",
       " -2\n",
       "  0\n",
       " -2"
      ]
     },
     "execution_count": 16,
     "metadata": {},
     "output_type": "execute_result"
    }
   ],
   "source": [
    "c=copy(r)\n",
    "for i in 1:length(ie) c[ie[i]]-= cr[i] end \n",
    "c"
   ]
  },
  {
   "cell_type": "markdown",
   "metadata": {},
   "source": [
    "We check that the corrected message is a word of the code:"
   ]
  },
  {
   "cell_type": "code",
   "execution_count": 19,
   "metadata": {},
   "outputs": [
    {
     "data": {
      "text/plain": [
       "6-element Vector{Int64}:\n",
       " -1\n",
       "  3\n",
       " -3\n",
       " -7\n",
       "  5\n",
       " -1"
      ]
     },
     "execution_count": 19,
     "metadata": {},
     "output_type": "execute_result"
    }
   ],
   "source": [
    "W*c"
   ]
  },
  {
   "cell_type": "code",
   "execution_count": null,
   "metadata": {},
   "outputs": [],
   "source": []
  }
 ],
 "metadata": {
  "@webio": {
   "lastCommId": null,
   "lastKernelId": null
  },
  "anaconda-cloud": {},
  "kernelspec": {
   "display_name": "Julia 1.9.3",
   "language": "julia",
   "name": "julia-1.9"
  },
  "language_info": {
   "file_extension": ".jl",
   "mimetype": "application/julia",
   "name": "julia",
   "version": "1.9.3"
  }
 },
 "nbformat": 4,
 "nbformat_minor": 4
}
